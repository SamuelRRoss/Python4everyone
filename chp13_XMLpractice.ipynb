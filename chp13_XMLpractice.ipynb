{
 "cells": [
  {
   "cell_type": "code",
   "execution_count": 16,
   "metadata": {},
   "outputs": [
    {
     "name": "stdout",
     "output_type": "stream",
     "text": [
      "<http.client.HTTPResponse object at 0x103f31570>\n",
      "2678\n"
     ]
    }
   ],
   "source": [
    "import urllib.request, urllib.parse, urllib.error\n",
    "import xml.etree.ElementTree as ET\n",
    "import ssl\n",
    "\n",
    "ctx = ssl.create_default_context()\n",
    "ctx.check_hostname = False\n",
    "ctx.verify_mode = ssl.CERT_NONE\n",
    "\n",
    "counts = []\n",
    "\n",
    "url = input('Plese Enter URL:')\n",
    "\n",
    "stuff = urllib.request.urlopen(url, context=ctx)\n",
    "\n",
    "data = stuff.read()\n",
    "tree = ET.fromstring(data)\n",
    "comments = tree.findall('comments/comment')\n",
    "\n",
    "for item in comments:\n",
    "    count = item.find('count').text\n",
    "    count = int(count)\n",
    "    counts.append(count)\n",
    "\n",
    "print(sum(counts))"
   ]
  }
 ],
 "metadata": {
  "kernelspec": {
   "display_name": "Python 3",
   "language": "python",
   "name": "python3"
  },
  "language_info": {
   "codemirror_mode": {
    "name": "ipython",
    "version": 3
   },
   "file_extension": ".py",
   "mimetype": "text/x-python",
   "name": "python",
   "nbconvert_exporter": "python",
   "pygments_lexer": "ipython3",
   "version": "3.12.0"
  }
 },
 "nbformat": 4,
 "nbformat_minor": 2
}
