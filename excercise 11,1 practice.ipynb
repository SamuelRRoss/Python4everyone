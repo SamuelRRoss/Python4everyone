{
 "cells": [
  {
   "cell_type": "code",
   "execution_count": 10,
   "metadata": {},
   "outputs": [
    {
     "name": "stdout",
     "output_type": "stream",
     "text": [
      "445833.0\n"
     ]
    }
   ],
   "source": [
    "#load regular expresions\n",
    "import re\n",
    "#open data\n",
    "textdata = open('regex_sum_42.txt')\n",
    "numbers = []\n",
    "#create a for loop to extract all of the numbers from our data\n",
    "for line in textdata:\n",
    "    line = line.rstrip()\n",
    "    x = re.findall('([0-9]+)',line)\n",
    "    \n",
    "\n",
    "    for i in x:\n",
    "        num =  float(i)\n",
    "        numbers.append(num)\n",
    "   \n",
    "print(sum(numbers))"
   ]
  }
 ],
 "metadata": {
  "kernelspec": {
   "display_name": "Python 3",
   "language": "python",
   "name": "python3"
  },
  "language_info": {
   "codemirror_mode": {
    "name": "ipython",
    "version": 3
   },
   "file_extension": ".py",
   "mimetype": "text/x-python",
   "name": "python",
   "nbconvert_exporter": "python",
   "pygments_lexer": "ipython3",
   "version": "3.12.0"
  }
 },
 "nbformat": 4,
 "nbformat_minor": 2
}
