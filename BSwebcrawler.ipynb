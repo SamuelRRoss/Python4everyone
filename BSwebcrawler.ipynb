{
 "cells": [
  {
   "cell_type": "code",
   "execution_count": 40,
   "metadata": {},
   "outputs": [
    {
     "name": "stdout",
     "output_type": "stream",
     "text": [
      "http://py4e-data.dr-chuck.net/known_by_Ellenor.html\n",
      "http://py4e-data.dr-chuck.net/known_by_Pamindar.html\n",
      "http://py4e-data.dr-chuck.net/known_by_Caidyn.html\n",
      "http://py4e-data.dr-chuck.net/known_by_Iain.html\n",
      "http://py4e-data.dr-chuck.net/known_by_Prabhasees.html\n",
      "http://py4e-data.dr-chuck.net/known_by_Skylar.html\n",
      "http://py4e-data.dr-chuck.net/known_by_Kyie.html\n"
     ]
    }
   ],
   "source": [
    "import urllib.request, urllib.parse, urllib.error\n",
    "from bs4 import BeautifulSoup\n",
    "import ssl\n",
    "\n",
    "ctx = ssl.create_default_context()\n",
    "ctx.check_hostname = False\n",
    "ctx.verify_mode = ssl.CERT_NONE\n",
    "\n",
    "page_position = 0\n",
    "link_position = 0 \n",
    "\n",
    "\n",
    "url = input('Please Enter a URL:')\n",
    "link_count = input('Enter link position')\n",
    "link_count = int(link_count)\n",
    "page_count = input('Enter page position')\n",
    "page_count = int(page_count)\n",
    "\n",
    "\n",
    "while page_position < page_count:\n",
    "\n",
    "    html = urllib.request.urlopen(url, context=ctx).read()\n",
    "    soup = BeautifulSoup(html, 'html.parser')\n",
    "\n",
    "    tags = soup('a')\n",
    "    for tag in tags:\n",
    "        if link_position == (link_count-1):\n",
    "            url = tag.get('href', None)\n",
    "            link_position = link_position + 1\n",
    "        else:\n",
    "            link_position = link_position + 1\n",
    "    link_position = 0\n",
    "    print(url)\n",
    "   \n",
    "\n",
    "    page_position = page_position + 1 "
   ]
  }
 ],
 "metadata": {
  "kernelspec": {
   "display_name": "Python 3",
   "language": "python",
   "name": "python3"
  },
  "language_info": {
   "codemirror_mode": {
    "name": "ipython",
    "version": 3
   },
   "file_extension": ".py",
   "mimetype": "text/x-python",
   "name": "python",
   "nbconvert_exporter": "python",
   "pygments_lexer": "ipython3",
   "version": "3.12.0"
  }
 },
 "nbformat": 4,
 "nbformat_minor": 2
}
