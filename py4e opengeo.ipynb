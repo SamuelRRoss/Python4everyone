{
 "cells": [
  {
   "cell_type": "code",
   "execution_count": 7,
   "metadata": {},
   "outputs": [
    {
     "name": "stdout",
     "output_type": "stream",
     "text": [
      "Retrieving https://py4e-data.dr-chuck.net/opengeo?q=390+freeman+road\n",
      "Retrieved 1457 characters {\"type\":\"FeatureColl\n",
      "lat 37.55255067346939 lon -77.4864223877551\n",
      "390 Freeman Road, Richmond, VA 23221, United States of America\n",
      "Retrieving https://py4e-data.dr-chuck.net/opengeo?q=390+freeman+rd+28786\n",
      "Retrieved 1455 characters {\"type\":\"FeatureColl\n",
      "lat 35.46265594194468 lon -83.02266962056277\n",
      "390 Freeman Road, Hyatt Creek, NC 28786, United States of America\n",
      "Retrieving https://py4e-data.dr-chuck.net/opengeo?q=357+peak+drive\n",
      "Retrieved 1369 characters {\"type\":\"FeatureColl\n",
      "lat 35.29850321437415 lon -83.17718717017752\n",
      "357 Peak Drive, Jackson County, NC 28723, United States of America\n",
      "Retrieving https://py4e-data.dr-chuck.net/opengeo?q=777+casino+lane\n",
      "Retrieved 1355 characters {\"type\":\"FeatureColl\n",
      "lat 36.076831 lon -78.498434\n",
      "Casino Lane, Franklin County, NC 27525, United States of America\n"
     ]
    }
   ],
   "source": [
    "import urllib.request, urllib.parse\n",
    "import json, ssl \n",
    "\n",
    "# Heavily rate limited proxy of https://geoapify.com/api\n",
    "serviceurl = 'https://py4e-data.dr-chuck.net/opengeo?'\n",
    "\n",
    "# Ignore SSL certificate errors\n",
    "ctx = ssl.create_default_context()\n",
    "ctx.check_hostname = False\n",
    "ctx.verify_mode = ssl.CERT_NONE\n",
    "\n",
    "while True:\n",
    "    address = input('Enter location: ')\n",
    "    if len(address) < 1: break\n",
    "\n",
    "    address = address.strip()\n",
    "    parms = dict()\n",
    "    parms['q'] = address\n",
    "\n",
    "    url = serviceurl + urllib.parse.urlencode(parms)\n",
    "\n",
    "    print('Retrieving', url)\n",
    "    uh = urllib.request.urlopen(url, context=ctx)\n",
    "    data = uh.read().decode()\n",
    "    print('Retrieved', len(data), 'characters', data[:20].replace('\\n',''))\n",
    "\n",
    "    try:\n",
    "        js =  json.loads(data)\n",
    "    except:\n",
    "        js = None\n",
    "    \n",
    "    if not js or 'features' not in js:\n",
    "        print('=== Download error ====')\n",
    "        print(data)\n",
    "        break\n",
    "\n",
    "    if len(js['features']) == 0:\n",
    "        print('=== Object not foound ===')\n",
    "        print(data)\n",
    "        break\n",
    "\n",
    "    #print(json.dumps(js, indent=4))\n",
    "\n",
    "    lat = js['features'][0]['properties']['lat']\n",
    "    lon = js['features'][0]['properties']['lon']\n",
    "    print('lat',lat,'lon',lon)\n",
    "    location = js['features'][0]['properties']['formatted']\n",
    "    print(location)\n"
   ]
  }
 ],
 "metadata": {
  "kernelspec": {
   "display_name": "Python 3",
   "language": "python",
   "name": "python3"
  },
  "language_info": {
   "codemirror_mode": {
    "name": "ipython",
    "version": 3
   },
   "file_extension": ".py",
   "mimetype": "text/x-python",
   "name": "python",
   "nbconvert_exporter": "python",
   "pygments_lexer": "ipython3",
   "version": "3.12.0"
  }
 },
 "nbformat": 4,
 "nbformat_minor": 2
}
