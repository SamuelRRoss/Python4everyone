{
 "cells": [
  {
   "cell_type": "code",
   "execution_count": 2,
   "metadata": {},
   "outputs": [
    {
     "name": "stdout",
     "output_type": "stream",
     "text": [
      "Retrieving http://py4e-data.dr-chuck.net/opengeo?q=University+of+Essex\n",
      "Retrieved 1501 characters {\"type\":\"FeatureColl\n",
      "Plus code 9F32VXG2+R2\n"
     ]
    }
   ],
   "source": [
    "import urllib.request, urllib.parse\n",
    "import json, ssl\n",
    "\n",
    "serviceurl = 'http://py4e-data.dr-chuck.net/opengeo?'\n",
    "\n",
    "ctx = ssl.create_default_context()\n",
    "ctx.check_hostname = False\n",
    "ctx.verify_mode = ssl.CERT_NONE\n",
    "\n",
    "while True:\n",
    "    address = input('Enter address: ')\n",
    "    if len(address) < 1: break\n",
    "\n",
    "    address = address.strip()\n",
    "    parms = dict()\n",
    "    parms['q'] = address\n",
    "\n",
    "    url = serviceurl + urllib.parse.urlencode(parms)\n",
    "\n",
    "    print('Retrieving',url)\n",
    "    stuff = urllib.request.urlopen(url, context=ctx)\n",
    "    data = stuff.read().decode()\n",
    "    print('Retrieved', len(data), 'characters', data[:20].replace('\\n', ''))\n",
    "    \n",
    "    try:\n",
    "        js = json.loads(data)\n",
    "    except:\n",
    "        js = None\n",
    "\n",
    "    if not js or 'features' not in js:\n",
    "        print('=== Download error ===')\n",
    "        print(data)\n",
    "        break\n",
    "\n",
    "    if len(js['features']) == 0:\n",
    "        print('=== Object not found ===')\n",
    "        print(data)\n",
    "        break\n",
    "\n",
    "    #print(json.dumps(js, indent=4))\n",
    "    print('Plus code', js['features'][0]['properties']['plus_code'])\n"
   ]
  }
 ],
 "metadata": {
  "kernelspec": {
   "display_name": "Python 3",
   "language": "python",
   "name": "python3"
  },
  "language_info": {
   "codemirror_mode": {
    "name": "ipython",
    "version": 3
   },
   "file_extension": ".py",
   "mimetype": "text/x-python",
   "name": "python",
   "nbconvert_exporter": "python",
   "pygments_lexer": "ipython3",
   "version": "3.12.0"
  }
 },
 "nbformat": 4,
 "nbformat_minor": 2
}
